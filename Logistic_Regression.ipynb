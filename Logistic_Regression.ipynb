{
 "cells": [
  {
   "cell_type": "code",
   "execution_count": 1,
   "metadata": {
    "collapsed": true
   },
   "outputs": [],
   "source": [
    "# http://statsmodels.sourceforge.net/stable/datasets/generated/fair.html"
   ]
  },
  {
   "cell_type": "code",
   "execution_count": 1,
   "metadata": {
    "collapsed": false
   },
   "outputs": [
    {
     "name": "stdout",
     "output_type": "stream",
     "text": [
      "Populating the interactive namespace from numpy and matplotlib\n"
     ]
    },
    {
     "name": "stderr",
     "output_type": "stream",
     "text": [
      "/Users/emmayu/anaconda/lib/python2.7/site-packages/matplotlib/font_manager.py:273: UserWarning: Matplotlib is building the font cache using fc-list. This may take a moment.\n",
      "  warnings.warn('Matplotlib is building the font cache using fc-list. This may take a moment.')\n"
     ]
    }
   ],
   "source": [
    "import statsmodels.api as sm\n",
    "from sklearn import linear_model\n",
    "import numpy as np\n",
    "import pandas as pd\n",
    "from patsy import dmatrices\n",
    "from sklearn import metrics\n",
    "%pylab inline"
   ]
  },
  {
   "cell_type": "code",
   "execution_count": 2,
   "metadata": {
    "collapsed": false
   },
   "outputs": [
    {
     "name": "stdout",
     "output_type": "stream",
     "text": [
      "python 2.7.12 |Anaconda 2.1.0 (x86_64)| (default, Jun 29 2016, 11:09:23) \n",
      "[GCC 4.2.1 (Based on Apple Inc. build 5658) (LLVM build 2336.11.00)]\n",
      "\n",
      "pandas 0.19.0\n",
      "numpy 1.11.2\n"
     ]
    }
   ],
   "source": [
    "import sys\n",
    "import matplotlib as mpl\n",
    "print(\"python \" + sys.version)\n",
    "print(\"\")\n",
    "print(\"pandas \" + str(pd.__version__))\n",
    "print(\"numpy \" + np.__version__)"
   ]
  },
  {
   "cell_type": "code",
   "execution_count": 3,
   "metadata": {
    "collapsed": true
   },
   "outputs": [],
   "source": [
    "df = sm.datasets.fair.load_pandas().data"
   ]
  },
  {
   "cell_type": "code",
   "execution_count": 4,
   "metadata": {
    "collapsed": false
   },
   "outputs": [
    {
     "data": {
      "text/html": [
       "<div>\n",
       "<table border=\"1\" class=\"dataframe\">\n",
       "  <thead>\n",
       "    <tr style=\"text-align: right;\">\n",
       "      <th></th>\n",
       "      <th>rate_marriage</th>\n",
       "      <th>age</th>\n",
       "      <th>yrs_married</th>\n",
       "      <th>children</th>\n",
       "      <th>religious</th>\n",
       "      <th>educ</th>\n",
       "      <th>occupation</th>\n",
       "      <th>occupation_husb</th>\n",
       "      <th>affairs</th>\n",
       "    </tr>\n",
       "  </thead>\n",
       "  <tbody>\n",
       "    <tr>\n",
       "      <th>0</th>\n",
       "      <td>3.0</td>\n",
       "      <td>32.0</td>\n",
       "      <td>9.0</td>\n",
       "      <td>3.0</td>\n",
       "      <td>3.0</td>\n",
       "      <td>17.0</td>\n",
       "      <td>2.0</td>\n",
       "      <td>5.0</td>\n",
       "      <td>0.111111</td>\n",
       "    </tr>\n",
       "    <tr>\n",
       "      <th>1</th>\n",
       "      <td>3.0</td>\n",
       "      <td>27.0</td>\n",
       "      <td>13.0</td>\n",
       "      <td>3.0</td>\n",
       "      <td>1.0</td>\n",
       "      <td>14.0</td>\n",
       "      <td>3.0</td>\n",
       "      <td>4.0</td>\n",
       "      <td>3.230769</td>\n",
       "    </tr>\n",
       "    <tr>\n",
       "      <th>2</th>\n",
       "      <td>4.0</td>\n",
       "      <td>22.0</td>\n",
       "      <td>2.5</td>\n",
       "      <td>0.0</td>\n",
       "      <td>1.0</td>\n",
       "      <td>16.0</td>\n",
       "      <td>3.0</td>\n",
       "      <td>5.0</td>\n",
       "      <td>1.400000</td>\n",
       "    </tr>\n",
       "    <tr>\n",
       "      <th>3</th>\n",
       "      <td>4.0</td>\n",
       "      <td>37.0</td>\n",
       "      <td>16.5</td>\n",
       "      <td>4.0</td>\n",
       "      <td>3.0</td>\n",
       "      <td>16.0</td>\n",
       "      <td>5.0</td>\n",
       "      <td>5.0</td>\n",
       "      <td>0.727273</td>\n",
       "    </tr>\n",
       "  </tbody>\n",
       "</table>\n",
       "</div>"
      ],
      "text/plain": [
       "   rate_marriage   age  yrs_married  children  religious  educ  occupation  \\\n",
       "0            3.0  32.0          9.0       3.0        3.0  17.0         2.0   \n",
       "1            3.0  27.0         13.0       3.0        1.0  14.0         3.0   \n",
       "2            4.0  22.0          2.5       0.0        1.0  16.0         3.0   \n",
       "3            4.0  37.0         16.5       4.0        3.0  16.0         5.0   \n",
       "\n",
       "   occupation_husb   affairs  \n",
       "0              5.0  0.111111  \n",
       "1              4.0  3.230769  \n",
       "2              5.0  1.400000  \n",
       "3              5.0  0.727273  "
      ]
     },
     "execution_count": 4,
     "metadata": {},
     "output_type": "execute_result"
    }
   ],
   "source": [
    "df.head(4)"
   ]
  },
  {
   "cell_type": "markdown",
   "metadata": {},
   "source": [
    "##### data exploration"
   ]
  },
  {
   "cell_type": "code",
   "execution_count": 5,
   "metadata": {
    "collapsed": true
   },
   "outputs": [],
   "source": [
    "# some summary statistics."
   ]
  },
  {
   "cell_type": "code",
   "execution_count": 6,
   "metadata": {
    "collapsed": false
   },
   "outputs": [
    {
     "data": {
      "text/html": [
       "<div>\n",
       "<table border=\"1\" class=\"dataframe\">\n",
       "  <thead>\n",
       "    <tr style=\"text-align: right;\">\n",
       "      <th></th>\n",
       "      <th>rate_marriage</th>\n",
       "      <th>age</th>\n",
       "      <th>yrs_married</th>\n",
       "      <th>children</th>\n",
       "      <th>religious</th>\n",
       "      <th>educ</th>\n",
       "      <th>occupation</th>\n",
       "      <th>occupation_husb</th>\n",
       "      <th>affairs</th>\n",
       "    </tr>\n",
       "  </thead>\n",
       "  <tbody>\n",
       "    <tr>\n",
       "      <th>count</th>\n",
       "      <td>6366.000000</td>\n",
       "      <td>6366.000000</td>\n",
       "      <td>6366.000000</td>\n",
       "      <td>6366.000000</td>\n",
       "      <td>6366.000000</td>\n",
       "      <td>6366.000000</td>\n",
       "      <td>6366.000000</td>\n",
       "      <td>6366.000000</td>\n",
       "      <td>6366.000000</td>\n",
       "    </tr>\n",
       "    <tr>\n",
       "      <th>mean</th>\n",
       "      <td>4.109645</td>\n",
       "      <td>29.082862</td>\n",
       "      <td>9.009425</td>\n",
       "      <td>1.396874</td>\n",
       "      <td>2.426170</td>\n",
       "      <td>14.209865</td>\n",
       "      <td>3.424128</td>\n",
       "      <td>3.850141</td>\n",
       "      <td>0.705374</td>\n",
       "    </tr>\n",
       "    <tr>\n",
       "      <th>std</th>\n",
       "      <td>0.961430</td>\n",
       "      <td>6.847882</td>\n",
       "      <td>7.280120</td>\n",
       "      <td>1.433471</td>\n",
       "      <td>0.878369</td>\n",
       "      <td>2.178003</td>\n",
       "      <td>0.942399</td>\n",
       "      <td>1.346435</td>\n",
       "      <td>2.203374</td>\n",
       "    </tr>\n",
       "    <tr>\n",
       "      <th>min</th>\n",
       "      <td>1.000000</td>\n",
       "      <td>17.500000</td>\n",
       "      <td>0.500000</td>\n",
       "      <td>0.000000</td>\n",
       "      <td>1.000000</td>\n",
       "      <td>9.000000</td>\n",
       "      <td>1.000000</td>\n",
       "      <td>1.000000</td>\n",
       "      <td>0.000000</td>\n",
       "    </tr>\n",
       "    <tr>\n",
       "      <th>25%</th>\n",
       "      <td>4.000000</td>\n",
       "      <td>22.000000</td>\n",
       "      <td>2.500000</td>\n",
       "      <td>0.000000</td>\n",
       "      <td>2.000000</td>\n",
       "      <td>12.000000</td>\n",
       "      <td>3.000000</td>\n",
       "      <td>3.000000</td>\n",
       "      <td>0.000000</td>\n",
       "    </tr>\n",
       "    <tr>\n",
       "      <th>50%</th>\n",
       "      <td>4.000000</td>\n",
       "      <td>27.000000</td>\n",
       "      <td>6.000000</td>\n",
       "      <td>1.000000</td>\n",
       "      <td>2.000000</td>\n",
       "      <td>14.000000</td>\n",
       "      <td>3.000000</td>\n",
       "      <td>4.000000</td>\n",
       "      <td>0.000000</td>\n",
       "    </tr>\n",
       "    <tr>\n",
       "      <th>75%</th>\n",
       "      <td>5.000000</td>\n",
       "      <td>32.000000</td>\n",
       "      <td>16.500000</td>\n",
       "      <td>2.000000</td>\n",
       "      <td>3.000000</td>\n",
       "      <td>16.000000</td>\n",
       "      <td>4.000000</td>\n",
       "      <td>5.000000</td>\n",
       "      <td>0.484848</td>\n",
       "    </tr>\n",
       "    <tr>\n",
       "      <th>max</th>\n",
       "      <td>5.000000</td>\n",
       "      <td>42.000000</td>\n",
       "      <td>23.000000</td>\n",
       "      <td>5.500000</td>\n",
       "      <td>4.000000</td>\n",
       "      <td>20.000000</td>\n",
       "      <td>6.000000</td>\n",
       "      <td>6.000000</td>\n",
       "      <td>57.599991</td>\n",
       "    </tr>\n",
       "  </tbody>\n",
       "</table>\n",
       "</div>"
      ],
      "text/plain": [
       "       rate_marriage          age  yrs_married     children    religious  \\\n",
       "count    6366.000000  6366.000000  6366.000000  6366.000000  6366.000000   \n",
       "mean        4.109645    29.082862     9.009425     1.396874     2.426170   \n",
       "std         0.961430     6.847882     7.280120     1.433471     0.878369   \n",
       "min         1.000000    17.500000     0.500000     0.000000     1.000000   \n",
       "25%         4.000000    22.000000     2.500000     0.000000     2.000000   \n",
       "50%         4.000000    27.000000     6.000000     1.000000     2.000000   \n",
       "75%         5.000000    32.000000    16.500000     2.000000     3.000000   \n",
       "max         5.000000    42.000000    23.000000     5.500000     4.000000   \n",
       "\n",
       "              educ   occupation  occupation_husb      affairs  \n",
       "count  6366.000000  6366.000000      6366.000000  6366.000000  \n",
       "mean     14.209865     3.424128         3.850141     0.705374  \n",
       "std       2.178003     0.942399         1.346435     2.203374  \n",
       "min       9.000000     1.000000         1.000000     0.000000  \n",
       "25%      12.000000     3.000000         3.000000     0.000000  \n",
       "50%      14.000000     3.000000         4.000000     0.000000  \n",
       "75%      16.000000     4.000000         5.000000     0.484848  \n",
       "max      20.000000     6.000000         6.000000    57.599991  "
      ]
     },
     "execution_count": 6,
     "metadata": {},
     "output_type": "execute_result"
    }
   ],
   "source": [
    "df.describe()"
   ]
  },
  {
   "cell_type": "code",
   "execution_count": 7,
   "metadata": {
    "collapsed": false
   },
   "outputs": [
    {
     "data": {
      "image/png": "[encoded data removed]",
      "text/plain": [
       "<matplotlib.figure.Figure at 0x11872ab50>"
      ]
     },
     "metadata": {},
     "output_type": "display_data"
    }
   ],
   "source": [
    "#need to run this to see the figures. \n",
    "#%matplotlib inline\n",
    "\n",
    "import matplotlib.pyplot as plt\n",
    "\n",
    "axes = pd.tools.plotting.scatter_matrix(df, alpha=0.2)\n",
    "plt.tight_layout()\n",
    "plt.savefig('scatter_matrix.png')\n",
    "#plt.show()"
   ]
  },
  {
   "cell_type": "code",
   "execution_count": 8,
   "metadata": {
    "collapsed": false
   },
   "outputs": [],
   "source": [
    "df['affair_bool'] = (df.affairs > 0).astype(int)"
   ]
  },
  {
   "cell_type": "code",
   "execution_count": 9,
   "metadata": {
    "collapsed": false,
    "scrolled": true
   },
   "outputs": [
    {
     "data": {
      "text/plain": [
       "<matplotlib.text.Text at 0x11eaed9d0>"
      ]
     },
     "execution_count": 9,
     "metadata": {},
     "output_type": "execute_result"
    },
    {
     "data": {
      "image/png": "[encoded data removed]",
      "text/plain": [
       "<matplotlib.figure.Figure at 0x1213f7bd0>"
      ]
     },
     "metadata": {},
     "output_type": "display_data"
    }
   ],
   "source": [
    "df['affairs'].hist(bins=20)\n",
    "xlabel('affairs')\n",
    "ylabel('number of women')"
   ]
  },
  {
   "cell_type": "code",
   "execution_count": 10,
   "metadata": {
    "collapsed": true
   },
   "outputs": [],
   "source": [
    "#Exploring affairs vs marraige ratings : "
   ]
  },
  {
   "cell_type": "code",
   "execution_count": 11,
   "metadata": {
    "collapsed": false
   },
   "outputs": [
    {
     "data": {
      "text/html": [
       "<div>\n",
       "<table border=\"1\" class=\"dataframe\">\n",
       "  <thead>\n",
       "    <tr style=\"text-align: right;\">\n",
       "      <th>affair_bool</th>\n",
       "      <th>0</th>\n",
       "      <th>1</th>\n",
       "    </tr>\n",
       "    <tr>\n",
       "      <th>rate_marriage</th>\n",
       "      <th></th>\n",
       "      <th></th>\n",
       "    </tr>\n",
       "  </thead>\n",
       "  <tbody>\n",
       "    <tr>\n",
       "      <th>1.0</th>\n",
       "      <td>25</td>\n",
       "      <td>74</td>\n",
       "    </tr>\n",
       "    <tr>\n",
       "      <th>2.0</th>\n",
       "      <td>127</td>\n",
       "      <td>221</td>\n",
       "    </tr>\n",
       "    <tr>\n",
       "      <th>3.0</th>\n",
       "      <td>446</td>\n",
       "      <td>547</td>\n",
       "    </tr>\n",
       "    <tr>\n",
       "      <th>4.0</th>\n",
       "      <td>1518</td>\n",
       "      <td>724</td>\n",
       "    </tr>\n",
       "    <tr>\n",
       "      <th>5.0</th>\n",
       "      <td>2197</td>\n",
       "      <td>487</td>\n",
       "    </tr>\n",
       "  </tbody>\n",
       "</table>\n",
       "</div>"
      ],
      "text/plain": [
       "affair_bool       0    1\n",
       "rate_marriage           \n",
       "1.0              25   74\n",
       "2.0             127  221\n",
       "3.0             446  547\n",
       "4.0            1518  724\n",
       "5.0            2197  487"
      ]
     },
     "execution_count": 11,
     "metadata": {},
     "output_type": "execute_result"
    }
   ],
   "source": [
    "rating_vs_target = pd.crosstab(df['rate_marriage'], df['affair_bool'])\n",
    "rating_vs_target"
   ]
  },
  {
   "cell_type": "code",
   "execution_count": 12,
   "metadata": {
    "collapsed": false
   },
   "outputs": [
    {
     "data": {
      "text/plain": [
       "affair_bool\n",
       "0    4313\n",
       "1    2053\n",
       "dtype: int64"
      ]
     },
     "execution_count": 12,
     "metadata": {},
     "output_type": "execute_result"
    }
   ],
   "source": [
    "total_ratings = rating_vs_target.apply(sum)\n",
    "total_ratings"
   ]
  },
  {
   "cell_type": "code",
   "execution_count": 13,
   "metadata": {
    "collapsed": false
   },
   "outputs": [
    {
     "data": {
      "text/html": [
       "<div>\n",
       "<table border=\"1\" class=\"dataframe\">\n",
       "  <thead>\n",
       "    <tr style=\"text-align: right;\">\n",
       "      <th>affair_bool</th>\n",
       "      <th>0</th>\n",
       "      <th>1</th>\n",
       "    </tr>\n",
       "    <tr>\n",
       "      <th>rate_marriage</th>\n",
       "      <th></th>\n",
       "      <th></th>\n",
       "    </tr>\n",
       "  </thead>\n",
       "  <tbody>\n",
       "    <tr>\n",
       "      <th>1.0</th>\n",
       "      <td>0.005796</td>\n",
       "      <td>0.036045</td>\n",
       "    </tr>\n",
       "    <tr>\n",
       "      <th>2.0</th>\n",
       "      <td>0.029446</td>\n",
       "      <td>0.107647</td>\n",
       "    </tr>\n",
       "    <tr>\n",
       "      <th>3.0</th>\n",
       "      <td>0.103408</td>\n",
       "      <td>0.266439</td>\n",
       "    </tr>\n",
       "    <tr>\n",
       "      <th>4.0</th>\n",
       "      <td>0.351959</td>\n",
       "      <td>0.352655</td>\n",
       "    </tr>\n",
       "    <tr>\n",
       "      <th>5.0</th>\n",
       "      <td>0.509390</td>\n",
       "      <td>0.237214</td>\n",
       "    </tr>\n",
       "  </tbody>\n",
       "</table>\n",
       "</div>"
      ],
      "text/plain": [
       "affair_bool           0         1\n",
       "rate_marriage                    \n",
       "1.0            0.005796  0.036045\n",
       "2.0            0.029446  0.107647\n",
       "3.0            0.103408  0.266439\n",
       "4.0            0.351959  0.352655\n",
       "5.0            0.509390  0.237214"
      ]
     },
     "execution_count": 13,
     "metadata": {},
     "output_type": "execute_result"
    }
   ],
   "source": [
    "rating_vs_target /= total_ratings\n",
    "rating_vs_target"
   ]
  },
  {
   "cell_type": "code",
   "execution_count": 14,
   "metadata": {
    "collapsed": false
   },
   "outputs": [
    {
     "data": {
      "text/plain": [
       "<matplotlib.axes._subplots.AxesSubplot at 0x11c88d990>"
      ]
     },
     "execution_count": 14,
     "metadata": {},
     "output_type": "execute_result"
    },
    {
     "data": {
      "image/png": "[encoded data removed]",
      "text/plain": [
       "<matplotlib.figure.Figure at 0x106393150>"
      ]
     },
     "metadata": {},
     "output_type": "display_data"
    }
   ],
   "source": [
    "rating_vs_target.plot(kind='bar')"
   ]
  },
  {
   "cell_type": "markdown",
   "metadata": {},
   "source": [
    "##### Conclusion - Women who rate their marriages higher have lesser number of affairs. "
   ]
  },
  {
   "cell_type": "code",
   "execution_count": 88,
   "metadata": {
    "collapsed": true
   },
   "outputs": [],
   "source": [
    "#splitting the model into train and test sets"
   ]
  },
  {
   "cell_type": "code",
   "execution_count": 89,
   "metadata": {
    "collapsed": false
   },
   "outputs": [],
   "source": [
    "from sklearn.cross_validation import train_test_split\n",
    "x_train, x_test = train_test_split(df, test_size=0.2, random_state=42)"
   ]
  },
  {
   "cell_type": "code",
   "execution_count": 90,
   "metadata": {
    "collapsed": false
   },
   "outputs": [],
   "source": [
    "train_y = x_train[\"affair_bool\"]"
   ]
  },
  {
   "cell_type": "code",
   "execution_count": 91,
   "metadata": {
    "collapsed": false
   },
   "outputs": [],
   "source": [
    "test_y = x_test[\"affair_bool\"]"
   ]
  },
  {
   "cell_type": "code",
   "execution_count": 92,
   "metadata": {
    "collapsed": false
   },
   "outputs": [],
   "source": [
    "x_train = x_train.drop(\"affairs\", axis = 1, inplace = False)\n",
    "x_train = x_train.drop(\"affair_bool\", axis = 1, inplace = False)"
   ]
  },
  {
   "cell_type": "code",
   "execution_count": 93,
   "metadata": {
    "collapsed": false
   },
   "outputs": [],
   "source": [
    "x_test = x_test.drop(\"affairs\", axis = 1, inplace = False)\n",
    "x_test = x_test.drop(\"affair_bool\", axis = 1, inplace = False)"
   ]
  },
  {
   "cell_type": "code",
   "execution_count": 94,
   "metadata": {
    "collapsed": true
   },
   "outputs": [],
   "source": [
    "#fitting the model"
   ]
  },
  {
   "cell_type": "code",
   "execution_count": 66,
   "metadata": {
    "collapsed": false
   },
   "outputs": [
    {
     "data": {
      "text/plain": [
       "LogisticRegression(C=1.0, class_weight=None, dual=False, fit_intercept=True,\n",
       "          intercept_scaling=1, max_iter=100, multi_class='ovr', n_jobs=1,\n",
       "          penalty='l2', random_state=None, solver='liblinear', tol=0.0001,\n",
       "          verbose=0, warm_start=False)"
      ]
     },
     "execution_count": 66,
     "metadata": {},
     "output_type": "execute_result"
    }
   ],
   "source": [
    "logit = linear_model.LogisticRegression()\n",
    "logit.fit(x_train,train_y)"
   ]
  },
  {
   "cell_type": "code",
   "execution_count": 67,
   "metadata": {
    "collapsed": true
   },
   "outputs": [],
   "source": [
    "#making predictions. By default, 0.5 is chosen as the threshold"
   ]
  },
  {
   "cell_type": "code",
   "execution_count": 68,
   "metadata": {
    "collapsed": false
   },
   "outputs": [],
   "source": [
    "predicted = logit.predict(x_test)"
   ]
  },
  {
   "cell_type": "code",
   "execution_count": 69,
   "metadata": {
    "collapsed": true
   },
   "outputs": [],
   "source": [
    "#calculating accuracy"
   ]
  },
  {
   "cell_type": "code",
   "execution_count": 70,
   "metadata": {
    "collapsed": false
   },
   "outputs": [
    {
     "data": {
      "text/plain": [
       "0.28100470957613816"
      ]
     },
     "execution_count": 70,
     "metadata": {},
     "output_type": "execute_result"
    }
   ],
   "source": [
    "np.mean((predicted - test_y)**2)"
   ]
  },
  {
   "cell_type": "code",
   "execution_count": 71,
   "metadata": {
    "collapsed": true
   },
   "outputs": [],
   "source": [
    "#coefficients"
   ]
  },
  {
   "cell_type": "code",
   "execution_count": 72,
   "metadata": {
    "collapsed": false
   },
   "outputs": [
    {
     "data": {
      "text/plain": [
       "array([[-0.68386585, -0.04990847,  0.10236941, -0.01012387, -0.35709764,\n",
       "        -0.02578616,  0.16064607,  0.01511299]])"
      ]
     },
     "execution_count": 72,
     "metadata": {},
     "output_type": "execute_result"
    }
   ],
   "source": [
    "logit.coef_"
   ]
  },
  {
   "cell_type": "code",
   "execution_count": 73,
   "metadata": {
    "collapsed": false
   },
   "outputs": [
    {
     "data": {
      "text/plain": [
       "array([ 3.12436788])"
      ]
     },
     "execution_count": 73,
     "metadata": {},
     "output_type": "execute_result"
    }
   ],
   "source": [
    "logit.intercept_"
   ]
  },
  {
   "cell_type": "code",
   "execution_count": 74,
   "metadata": {
    "collapsed": false
   },
   "outputs": [
    {
     "data": {
      "text/plain": [
       "rate_marriage     -0.683866\n",
       "religious         -0.357098\n",
       "age               -0.049908\n",
       "educ              -0.025786\n",
       "children          -0.010124\n",
       "occupation_husb    0.015113\n",
       "yrs_married        0.102369\n",
       "occupation         0.160646\n",
       "dtype: float64"
      ]
     },
     "execution_count": 74,
     "metadata": {},
     "output_type": "execute_result"
    }
   ],
   "source": [
    "weights = pd.Series(logit.coef_[0],\n",
    "                 index= x_train.columns.values)\n",
    "weights.sort_values()"
   ]
  },
  {
   "cell_type": "markdown",
   "metadata": {},
   "source": [
    "##### Conclusions - We observed from the bar graph that a higher marriage rating means a lower chance of having an affair. The negative coefficient value of rate_marriage variable - -0.683867 tells us exactly that. "
   ]
  },
  {
   "cell_type": "code",
   "execution_count": 75,
   "metadata": {
    "collapsed": true
   },
   "outputs": [],
   "source": [
    "# We observe that the occupation husb and occupation columns are categorical columns. We need to make them categorical so we will use design matrices.\n",
    "# The C(occupation_husb) and C(occupation) is doing just that"
   ]
  },
  {
   "cell_type": "code",
   "execution_count": 76,
   "metadata": {
    "collapsed": true
   },
   "outputs": [],
   "source": [
    "y, X = dmatrices('affair_bool ~ rate_marriage + age + educ + children + C(occupation_husb) + C(occupation) + yrs_married', df, return_type = 'dataframe')"
   ]
  },
  {
   "cell_type": "code",
   "execution_count": 77,
   "metadata": {
    "collapsed": false
   },
   "outputs": [],
   "source": [
    "logit_categorical = linear_model.LogisticRegression(fit_intercept = False, C = 1e9)"
   ]
  },
  {
   "cell_type": "code",
   "execution_count": 95,
   "metadata": {
    "collapsed": true
   },
   "outputs": [],
   "source": [
    "X_train, X_test, y_train, y_test = train_test_split(X, y, test_size=0.3, random_state=0)"
   ]
  },
  {
   "cell_type": "code",
   "execution_count": 96,
   "metadata": {
    "collapsed": false
   },
   "outputs": [
    {
     "data": {
      "text/plain": [
       "LogisticRegression(C=1000000000.0, class_weight=None, dual=False,\n",
       "          fit_intercept=False, intercept_scaling=1, max_iter=100,\n",
       "          multi_class='ovr', n_jobs=1, penalty='l2', random_state=None,\n",
       "          solver='liblinear', tol=0.0001, verbose=0, warm_start=False)"
      ]
     },
     "execution_count": 96,
     "metadata": {},
     "output_type": "execute_result"
    }
   ],
   "source": [
    "logit_categorical.fit(X_train,y_train)"
   ]
  },
  {
   "cell_type": "code",
   "execution_count": 36,
   "metadata": {
    "collapsed": false
   },
   "outputs": [
    {
     "data": {
      "text/plain": [
       "array([[  1.93622038e+00,   6.02365061e-02,   1.71663532e-01,\n",
       "          4.13371594e-02,   1.18382410e-02,  -3.75502223e-05,\n",
       "          8.04116435e-01,   1.07608806e+00,   8.14085260e-01,\n",
       "          1.44536830e+00,   1.60935419e+00,  -7.31551880e-01,\n",
       "         -6.04987410e-02,   3.23805330e-03,  -3.87799737e-02,\n",
       "          1.06604496e-01]])"
      ]
     },
     "execution_count": 36,
     "metadata": {},
     "output_type": "execute_result"
    }
   ],
   "source": [
    "logit_categorical.coef_"
   ]
  },
  {
   "cell_type": "code",
   "execution_count": 37,
   "metadata": {
    "collapsed": false
   },
   "outputs": [
    {
     "data": {
      "text/plain": [
       "rate_marriage               -0.731552\n",
       "age                         -0.060499\n",
       "children                    -0.038780\n",
       "C(occupation_husb)[T.6.0]   -0.000038\n",
       "educ                         0.003238\n",
       "C(occupation_husb)[T.5.0]    0.011838\n",
       "C(occupation_husb)[T.4.0]    0.041337\n",
       "C(occupation_husb)[T.2.0]    0.060237\n",
       "yrs_married                  0.106604\n",
       "C(occupation_husb)[T.3.0]    0.171664\n",
       "C(occupation)[T.2.0]         0.804116\n",
       "C(occupation)[T.4.0]         0.814085\n",
       "C(occupation)[T.3.0]         1.076088\n",
       "C(occupation)[T.5.0]         1.445368\n",
       "C(occupation)[T.6.0]         1.609354\n",
       "Intercept                    1.936220\n",
       "dtype: float64"
      ]
     },
     "execution_count": 37,
     "metadata": {},
     "output_type": "execute_result"
    }
   ],
   "source": [
    "weights_categories = pd.Series(logit_categorical.coef_[0],\n",
    "                 index= X.columns.values)\n",
    "weights_categories.sort_values()"
   ]
  },
  {
   "cell_type": "code",
   "execution_count": 38,
   "metadata": {
    "collapsed": true
   },
   "outputs": [],
   "source": [
    "# This makes more sense. Let's calculate the accuracy insample "
   ]
  },
  {
   "cell_type": "code",
   "execution_count": 39,
   "metadata": {
    "collapsed": false
   },
   "outputs": [
    {
     "data": {
      "text/plain": [
       "0.71970377019748655"
      ]
     },
     "execution_count": 39,
     "metadata": {},
     "output_type": "execute_result"
    }
   ],
   "source": [
    "logit_categorical.score(X_train, y_train)"
   ]
  },
  {
   "cell_type": "code",
   "execution_count": 40,
   "metadata": {
    "collapsed": true
   },
   "outputs": [],
   "source": [
    "# Let's now check the out of sample test accuracy "
   ]
  },
  {
   "cell_type": "code",
   "execution_count": 41,
   "metadata": {
    "collapsed": true
   },
   "outputs": [],
   "source": [
    "predicted_logit_categorical = logit_categorical.predict(X_test)"
   ]
  },
  {
   "cell_type": "code",
   "execution_count": 42,
   "metadata": {
    "collapsed": false
   },
   "outputs": [
    {
     "data": {
      "text/plain": [
       "0.73403141361256541"
      ]
     },
     "execution_count": 42,
     "metadata": {},
     "output_type": "execute_result"
    }
   ],
   "source": [
    "metrics.accuracy_score(y_test, predicted_logit_categorical)"
   ]
  },
  {
   "cell_type": "code",
   "execution_count": 43,
   "metadata": {
    "collapsed": false
   },
   "outputs": [],
   "source": [
    "#getting the predicted probabilities.\n",
    "predicted_prob = logit_categorical.predict_proba(X_test)"
   ]
  },
  {
   "cell_type": "code",
   "execution_count": 44,
   "metadata": {
    "collapsed": false
   },
   "outputs": [],
   "source": [
    "predicted_class_1 = [item[1] for item in predicted_prob]\n"
   ]
  },
  {
   "cell_type": "code",
   "execution_count": 45,
   "metadata": {
    "collapsed": false
   },
   "outputs": [],
   "source": [
    "fpr, tpr, thresholds = metrics.roc_curve(y_test, predicted_class_1)\n",
    "roc_auc = metrics.auc(fpr,tpr)"
   ]
  },
  {
   "cell_type": "code",
   "execution_count": 46,
   "metadata": {
    "collapsed": false
   },
   "outputs": [
    {
     "data": {
      "image/png": "[encoded data removed]",
      "text/plain": [
       "<matplotlib.figure.Figure at 0x12230d8d0>"
      ]
     },
     "metadata": {},
     "output_type": "display_data"
    }
   ],
   "source": [
    "#adapted from http://scikit-learn.org/stable/auto_examples/model_selection/plot_roc.html#sphx-glr-auto-examples-model-selection-plot-roc-py\n",
    "\n",
    "plt.figure()\n",
    "lw = 2\n",
    "plt.plot(fpr, tpr, color='darkorange',\n",
    "         lw=lw, label='ROC curve (area = %0.2f)' % roc_auc)\n",
    "plt.plot([0, 1], [0, 1], color='navy', lw=lw, linestyle='--')\n",
    "plt.xlim([0.0, 1.0])\n",
    "plt.ylim([0.0, 1.05])\n",
    "plt.xlabel('False Positive Rate')\n",
    "plt.ylabel('True Positive Rate')\n",
    "plt.title('Receiver operating characteristic')\n",
    "plt.legend(loc=\"lower right\")\n",
    "plt.savefig('roc.png')\n",
    "plt.show()\n"
   ]
  },
  {
   "cell_type": "code",
   "execution_count": null,
   "metadata": {
    "collapsed": true
   },
   "outputs": [],
   "source": []
  },
  {
   "cell_type": "markdown",
   "metadata": {
    "collapsed": true
   },
   "source": [
    "### Switch to Emma\n",
    "\n",
    "What if the effect of husband's occupation depends on the wife's occupation, or the effect of children depends on years married? \n",
    "\n",
    "We can add features to include interaction terms. First let's have a look at what feature we have now."
   ]
  },
  {
   "cell_type": "code",
   "execution_count": 97,
   "metadata": {
    "collapsed": false,
    "scrolled": false
   },
   "outputs": [
    {
     "data": {
      "text/html": [
       "<div>\n",
       "<table border=\"1\" class=\"dataframe\">\n",
       "  <thead>\n",
       "    <tr style=\"text-align: right;\">\n",
       "      <th></th>\n",
       "      <th>Intercept</th>\n",
       "      <th>C(occupation_husb)[T.2.0]</th>\n",
       "      <th>C(occupation_husb)[T.3.0]</th>\n",
       "      <th>C(occupation_husb)[T.4.0]</th>\n",
       "      <th>C(occupation_husb)[T.5.0]</th>\n",
       "      <th>C(occupation_husb)[T.6.0]</th>\n",
       "      <th>C(occupation)[T.2.0]</th>\n",
       "      <th>C(occupation)[T.3.0]</th>\n",
       "      <th>C(occupation)[T.4.0]</th>\n",
       "      <th>C(occupation)[T.5.0]</th>\n",
       "      <th>C(occupation)[T.6.0]</th>\n",
       "      <th>rate_marriage</th>\n",
       "      <th>age</th>\n",
       "      <th>educ</th>\n",
       "      <th>children</th>\n",
       "      <th>yrs_married</th>\n",
       "    </tr>\n",
       "  </thead>\n",
       "  <tbody>\n",
       "    <tr>\n",
       "      <th>2411</th>\n",
       "      <td>1.0</td>\n",
       "      <td>0.0</td>\n",
       "      <td>0.0</td>\n",
       "      <td>0.0</td>\n",
       "      <td>0.0</td>\n",
       "      <td>1.0</td>\n",
       "      <td>1.0</td>\n",
       "      <td>0.0</td>\n",
       "      <td>0.0</td>\n",
       "      <td>0.0</td>\n",
       "      <td>0.0</td>\n",
       "      <td>5.0</td>\n",
       "      <td>27.0</td>\n",
       "      <td>16.0</td>\n",
       "      <td>1.0</td>\n",
       "      <td>6.0</td>\n",
       "    </tr>\n",
       "    <tr>\n",
       "      <th>4083</th>\n",
       "      <td>1.0</td>\n",
       "      <td>0.0</td>\n",
       "      <td>0.0</td>\n",
       "      <td>0.0</td>\n",
       "      <td>1.0</td>\n",
       "      <td>0.0</td>\n",
       "      <td>0.0</td>\n",
       "      <td>1.0</td>\n",
       "      <td>0.0</td>\n",
       "      <td>0.0</td>\n",
       "      <td>0.0</td>\n",
       "      <td>4.0</td>\n",
       "      <td>42.0</td>\n",
       "      <td>14.0</td>\n",
       "      <td>4.0</td>\n",
       "      <td>23.0</td>\n",
       "    </tr>\n",
       "    <tr>\n",
       "      <th>3196</th>\n",
       "      <td>1.0</td>\n",
       "      <td>0.0</td>\n",
       "      <td>0.0</td>\n",
       "      <td>0.0</td>\n",
       "      <td>1.0</td>\n",
       "      <td>0.0</td>\n",
       "      <td>0.0</td>\n",
       "      <td>1.0</td>\n",
       "      <td>0.0</td>\n",
       "      <td>0.0</td>\n",
       "      <td>0.0</td>\n",
       "      <td>5.0</td>\n",
       "      <td>37.0</td>\n",
       "      <td>14.0</td>\n",
       "      <td>4.0</td>\n",
       "      <td>23.0</td>\n",
       "    </tr>\n",
       "    <tr>\n",
       "      <th>3035</th>\n",
       "      <td>1.0</td>\n",
       "      <td>0.0</td>\n",
       "      <td>0.0</td>\n",
       "      <td>1.0</td>\n",
       "      <td>0.0</td>\n",
       "      <td>0.0</td>\n",
       "      <td>0.0</td>\n",
       "      <td>1.0</td>\n",
       "      <td>0.0</td>\n",
       "      <td>0.0</td>\n",
       "      <td>0.0</td>\n",
       "      <td>5.0</td>\n",
       "      <td>22.0</td>\n",
       "      <td>12.0</td>\n",
       "      <td>0.0</td>\n",
       "      <td>2.5</td>\n",
       "    </tr>\n",
       "    <tr>\n",
       "      <th>1772</th>\n",
       "      <td>1.0</td>\n",
       "      <td>0.0</td>\n",
       "      <td>0.0</td>\n",
       "      <td>1.0</td>\n",
       "      <td>0.0</td>\n",
       "      <td>0.0</td>\n",
       "      <td>0.0</td>\n",
       "      <td>0.0</td>\n",
       "      <td>0.0</td>\n",
       "      <td>1.0</td>\n",
       "      <td>0.0</td>\n",
       "      <td>3.0</td>\n",
       "      <td>22.0</td>\n",
       "      <td>14.0</td>\n",
       "      <td>0.0</td>\n",
       "      <td>2.5</td>\n",
       "    </tr>\n",
       "  </tbody>\n",
       "</table>\n",
       "</div>"
      ],
      "text/plain": [
       "      Intercept  C(occupation_husb)[T.2.0]  C(occupation_husb)[T.3.0]  \\\n",
       "2411        1.0                        0.0                        0.0   \n",
       "4083        1.0                        0.0                        0.0   \n",
       "3196        1.0                        0.0                        0.0   \n",
       "3035        1.0                        0.0                        0.0   \n",
       "1772        1.0                        0.0                        0.0   \n",
       "\n",
       "      C(occupation_husb)[T.4.0]  C(occupation_husb)[T.5.0]  \\\n",
       "2411                        0.0                        0.0   \n",
       "4083                        0.0                        1.0   \n",
       "3196                        0.0                        1.0   \n",
       "3035                        1.0                        0.0   \n",
       "1772                        1.0                        0.0   \n",
       "\n",
       "      C(occupation_husb)[T.6.0]  C(occupation)[T.2.0]  C(occupation)[T.3.0]  \\\n",
       "2411                        1.0                   1.0                   0.0   \n",
       "4083                        0.0                   0.0                   1.0   \n",
       "3196                        0.0                   0.0                   1.0   \n",
       "3035                        0.0                   0.0                   1.0   \n",
       "1772                        0.0                   0.0                   0.0   \n",
       "\n",
       "      C(occupation)[T.4.0]  C(occupation)[T.5.0]  C(occupation)[T.6.0]  \\\n",
       "2411                   0.0                   0.0                   0.0   \n",
       "4083                   0.0                   0.0                   0.0   \n",
       "3196                   0.0                   0.0                   0.0   \n",
       "3035                   0.0                   0.0                   0.0   \n",
       "1772                   0.0                   1.0                   0.0   \n",
       "\n",
       "      rate_marriage   age  educ  children  yrs_married  \n",
       "2411            5.0  27.0  16.0       1.0          6.0  \n",
       "4083            4.0  42.0  14.0       4.0         23.0  \n",
       "3196            5.0  37.0  14.0       4.0         23.0  \n",
       "3035            5.0  22.0  12.0       0.0          2.5  \n",
       "1772            3.0  22.0  14.0       0.0          2.5  "
      ]
     },
     "execution_count": 97,
     "metadata": {},
     "output_type": "execute_result"
    }
   ],
   "source": [
    "X_train.head()"
   ]
  },
  {
   "cell_type": "markdown",
   "metadata": {},
   "source": [
    "We do not want to create interaction terms with intercept because that will simply be the feature itself. Lets drop be intercept column first."
   ]
  },
  {
   "cell_type": "code",
   "execution_count": 98,
   "metadata": {
    "collapsed": false
   },
   "outputs": [],
   "source": [
    "X_train= X_train.drop('Intercept', axis=1)\n",
    "X_test= X_test.drop('Intercept', axis=1)"
   ]
  },
  {
   "cell_type": "code",
   "execution_count": 99,
   "metadata": {
    "collapsed": false,
    "scrolled": true
   },
   "outputs": [
    {
     "name": "stdout",
     "output_type": "stream",
     "text": [
      "(4456, 15)\n",
      "(1910, 15)\n"
     ]
    },
    {
     "data": {
      "text/html": [
       "<div>\n",
       "<table border=\"1\" class=\"dataframe\">\n",
       "  <thead>\n",
       "    <tr style=\"text-align: right;\">\n",
       "      <th></th>\n",
       "      <th>C(occupation_husb)[T.2.0]</th>\n",
       "      <th>C(occupation_husb)[T.3.0]</th>\n",
       "      <th>C(occupation_husb)[T.4.0]</th>\n",
       "      <th>C(occupation_husb)[T.5.0]</th>\n",
       "      <th>C(occupation_husb)[T.6.0]</th>\n",
       "      <th>C(occupation)[T.2.0]</th>\n",
       "      <th>C(occupation)[T.3.0]</th>\n",
       "      <th>C(occupation)[T.4.0]</th>\n",
       "      <th>C(occupation)[T.5.0]</th>\n",
       "      <th>C(occupation)[T.6.0]</th>\n",
       "      <th>rate_marriage</th>\n",
       "      <th>age</th>\n",
       "      <th>educ</th>\n",
       "      <th>children</th>\n",
       "      <th>yrs_married</th>\n",
       "    </tr>\n",
       "  </thead>\n",
       "  <tbody>\n",
       "    <tr>\n",
       "      <th>2411</th>\n",
       "      <td>0.0</td>\n",
       "      <td>0.0</td>\n",
       "      <td>0.0</td>\n",
       "      <td>0.0</td>\n",
       "      <td>1.0</td>\n",
       "      <td>1.0</td>\n",
       "      <td>0.0</td>\n",
       "      <td>0.0</td>\n",
       "      <td>0.0</td>\n",
       "      <td>0.0</td>\n",
       "      <td>5.0</td>\n",
       "      <td>27.0</td>\n",
       "      <td>16.0</td>\n",
       "      <td>1.0</td>\n",
       "      <td>6.0</td>\n",
       "    </tr>\n",
       "    <tr>\n",
       "      <th>4083</th>\n",
       "      <td>0.0</td>\n",
       "      <td>0.0</td>\n",
       "      <td>0.0</td>\n",
       "      <td>1.0</td>\n",
       "      <td>0.0</td>\n",
       "      <td>0.0</td>\n",
       "      <td>1.0</td>\n",
       "      <td>0.0</td>\n",
       "      <td>0.0</td>\n",
       "      <td>0.0</td>\n",
       "      <td>4.0</td>\n",
       "      <td>42.0</td>\n",
       "      <td>14.0</td>\n",
       "      <td>4.0</td>\n",
       "      <td>23.0</td>\n",
       "    </tr>\n",
       "    <tr>\n",
       "      <th>3196</th>\n",
       "      <td>0.0</td>\n",
       "      <td>0.0</td>\n",
       "      <td>0.0</td>\n",
       "      <td>1.0</td>\n",
       "      <td>0.0</td>\n",
       "      <td>0.0</td>\n",
       "      <td>1.0</td>\n",
       "      <td>0.0</td>\n",
       "      <td>0.0</td>\n",
       "      <td>0.0</td>\n",
       "      <td>5.0</td>\n",
       "      <td>37.0</td>\n",
       "      <td>14.0</td>\n",
       "      <td>4.0</td>\n",
       "      <td>23.0</td>\n",
       "    </tr>\n",
       "    <tr>\n",
       "      <th>3035</th>\n",
       "      <td>0.0</td>\n",
       "      <td>0.0</td>\n",
       "      <td>1.0</td>\n",
       "      <td>0.0</td>\n",
       "      <td>0.0</td>\n",
       "      <td>0.0</td>\n",
       "      <td>1.0</td>\n",
       "      <td>0.0</td>\n",
       "      <td>0.0</td>\n",
       "      <td>0.0</td>\n",
       "      <td>5.0</td>\n",
       "      <td>22.0</td>\n",
       "      <td>12.0</td>\n",
       "      <td>0.0</td>\n",
       "      <td>2.5</td>\n",
       "    </tr>\n",
       "    <tr>\n",
       "      <th>1772</th>\n",
       "      <td>0.0</td>\n",
       "      <td>0.0</td>\n",
       "      <td>1.0</td>\n",
       "      <td>0.0</td>\n",
       "      <td>0.0</td>\n",
       "      <td>0.0</td>\n",
       "      <td>0.0</td>\n",
       "      <td>0.0</td>\n",
       "      <td>1.0</td>\n",
       "      <td>0.0</td>\n",
       "      <td>3.0</td>\n",
       "      <td>22.0</td>\n",
       "      <td>14.0</td>\n",
       "      <td>0.0</td>\n",
       "      <td>2.5</td>\n",
       "    </tr>\n",
       "  </tbody>\n",
       "</table>\n",
       "</div>"
      ],
      "text/plain": [
       "      C(occupation_husb)[T.2.0]  C(occupation_husb)[T.3.0]  \\\n",
       "2411                        0.0                        0.0   \n",
       "4083                        0.0                        0.0   \n",
       "3196                        0.0                        0.0   \n",
       "3035                        0.0                        0.0   \n",
       "1772                        0.0                        0.0   \n",
       "\n",
       "      C(occupation_husb)[T.4.0]  C(occupation_husb)[T.5.0]  \\\n",
       "2411                        0.0                        0.0   \n",
       "4083                        0.0                        1.0   \n",
       "3196                        0.0                        1.0   \n",
       "3035                        1.0                        0.0   \n",
       "1772                        1.0                        0.0   \n",
       "\n",
       "      C(occupation_husb)[T.6.0]  C(occupation)[T.2.0]  C(occupation)[T.3.0]  \\\n",
       "2411                        1.0                   1.0                   0.0   \n",
       "4083                        0.0                   0.0                   1.0   \n",
       "3196                        0.0                   0.0                   1.0   \n",
       "3035                        0.0                   0.0                   1.0   \n",
       "1772                        0.0                   0.0                   0.0   \n",
       "\n",
       "      C(occupation)[T.4.0]  C(occupation)[T.5.0]  C(occupation)[T.6.0]  \\\n",
       "2411                   0.0                   0.0                   0.0   \n",
       "4083                   0.0                   0.0                   0.0   \n",
       "3196                   0.0                   0.0                   0.0   \n",
       "3035                   0.0                   0.0                   0.0   \n",
       "1772                   0.0                   1.0                   0.0   \n",
       "\n",
       "      rate_marriage   age  educ  children  yrs_married  \n",
       "2411            5.0  27.0  16.0       1.0          6.0  \n",
       "4083            4.0  42.0  14.0       4.0         23.0  \n",
       "3196            5.0  37.0  14.0       4.0         23.0  \n",
       "3035            5.0  22.0  12.0       0.0          2.5  \n",
       "1772            3.0  22.0  14.0       0.0          2.5  "
      ]
     },
     "execution_count": 99,
     "metadata": {},
     "output_type": "execute_result"
    }
   ],
   "source": [
    "print X_train.shape \n",
    "print X_test.shape \n",
    "X_train.head()"
   ]
  },
  {
   "cell_type": "markdown",
   "metadata": {},
   "source": [
    "We can see the range of values is different for each numerical variables. Since the values of coefficience matter in regularization, we want to standardize the data first (only numerical variables). "
   ]
  },
  {
   "cell_type": "code",
   "execution_count": 100,
   "metadata": {
    "collapsed": true
   },
   "outputs": [],
   "source": [
    "for i in ['rate_marriage','age','educ','children','yrs_married']:\n",
    "    X_train[i]= (X_train[i] - X_train[i].mean()) / X_train[i].std()\n",
    "    X_test[i]= (X_test[i] - X_test[i].mean()) / X_test[i].std()"
   ]
  },
  {
   "cell_type": "code",
   "execution_count": 101,
   "metadata": {
    "collapsed": false
   },
   "outputs": [],
   "source": [
    "# ideally we want to standardize training/testing data the same way. \n",
    "# but considering after training the model one may not keep the original \n",
    "# training data. Let's standardized the testing data with its own mean/std.\n"
   ]
  },
  {
   "cell_type": "code",
   "execution_count": 103,
   "metadata": {
    "collapsed": false
   },
   "outputs": [
    {
     "data": {
      "text/html": [
       "<div>\n",
       "<table border=\"1\" class=\"dataframe\">\n",
       "  <thead>\n",
       "    <tr style=\"text-align: right;\">\n",
       "      <th></th>\n",
       "      <th>C(occupation_husb)[T.2.0]</th>\n",
       "      <th>C(occupation_husb)[T.3.0]</th>\n",
       "      <th>C(occupation_husb)[T.4.0]</th>\n",
       "      <th>C(occupation_husb)[T.5.0]</th>\n",
       "      <th>C(occupation_husb)[T.6.0]</th>\n",
       "      <th>C(occupation)[T.2.0]</th>\n",
       "      <th>C(occupation)[T.3.0]</th>\n",
       "      <th>C(occupation)[T.4.0]</th>\n",
       "      <th>C(occupation)[T.5.0]</th>\n",
       "      <th>C(occupation)[T.6.0]</th>\n",
       "      <th>rate_marriage</th>\n",
       "      <th>age</th>\n",
       "      <th>educ</th>\n",
       "      <th>children</th>\n",
       "      <th>yrs_married</th>\n",
       "    </tr>\n",
       "  </thead>\n",
       "  <tbody>\n",
       "    <tr>\n",
       "      <th>2411</th>\n",
       "      <td>0.0</td>\n",
       "      <td>0.0</td>\n",
       "      <td>0.0</td>\n",
       "      <td>0.0</td>\n",
       "      <td>1.0</td>\n",
       "      <td>1.0</td>\n",
       "      <td>0.0</td>\n",
       "      <td>0.0</td>\n",
       "      <td>0.0</td>\n",
       "      <td>0.0</td>\n",
       "      <td>0.921467</td>\n",
       "      <td>-0.309063</td>\n",
       "      <td>0.805149</td>\n",
       "      <td>-0.279448</td>\n",
       "      <td>-0.417580</td>\n",
       "    </tr>\n",
       "    <tr>\n",
       "      <th>4083</th>\n",
       "      <td>0.0</td>\n",
       "      <td>0.0</td>\n",
       "      <td>0.0</td>\n",
       "      <td>1.0</td>\n",
       "      <td>0.0</td>\n",
       "      <td>0.0</td>\n",
       "      <td>1.0</td>\n",
       "      <td>0.0</td>\n",
       "      <td>0.0</td>\n",
       "      <td>0.0</td>\n",
       "      <td>-0.121209</td>\n",
       "      <td>1.900561</td>\n",
       "      <td>-0.104984</td>\n",
       "      <td>1.822186</td>\n",
       "      <td>1.934982</td>\n",
       "    </tr>\n",
       "    <tr>\n",
       "      <th>3196</th>\n",
       "      <td>0.0</td>\n",
       "      <td>0.0</td>\n",
       "      <td>0.0</td>\n",
       "      <td>1.0</td>\n",
       "      <td>0.0</td>\n",
       "      <td>0.0</td>\n",
       "      <td>1.0</td>\n",
       "      <td>0.0</td>\n",
       "      <td>0.0</td>\n",
       "      <td>0.0</td>\n",
       "      <td>0.921467</td>\n",
       "      <td>1.164020</td>\n",
       "      <td>-0.104984</td>\n",
       "      <td>1.822186</td>\n",
       "      <td>1.934982</td>\n",
       "    </tr>\n",
       "    <tr>\n",
       "      <th>3035</th>\n",
       "      <td>0.0</td>\n",
       "      <td>0.0</td>\n",
       "      <td>1.0</td>\n",
       "      <td>0.0</td>\n",
       "      <td>0.0</td>\n",
       "      <td>0.0</td>\n",
       "      <td>1.0</td>\n",
       "      <td>0.0</td>\n",
       "      <td>0.0</td>\n",
       "      <td>0.0</td>\n",
       "      <td>0.921467</td>\n",
       "      <td>-1.045604</td>\n",
       "      <td>-1.015117</td>\n",
       "      <td>-0.979992</td>\n",
       "      <td>-0.901932</td>\n",
       "    </tr>\n",
       "    <tr>\n",
       "      <th>1772</th>\n",
       "      <td>0.0</td>\n",
       "      <td>0.0</td>\n",
       "      <td>1.0</td>\n",
       "      <td>0.0</td>\n",
       "      <td>0.0</td>\n",
       "      <td>0.0</td>\n",
       "      <td>0.0</td>\n",
       "      <td>0.0</td>\n",
       "      <td>1.0</td>\n",
       "      <td>0.0</td>\n",
       "      <td>-1.163885</td>\n",
       "      <td>-1.045604</td>\n",
       "      <td>-0.104984</td>\n",
       "      <td>-0.979992</td>\n",
       "      <td>-0.901932</td>\n",
       "    </tr>\n",
       "  </tbody>\n",
       "</table>\n",
       "</div>"
      ],
      "text/plain": [
       "      C(occupation_husb)[T.2.0]  C(occupation_husb)[T.3.0]  \\\n",
       "2411                        0.0                        0.0   \n",
       "4083                        0.0                        0.0   \n",
       "3196                        0.0                        0.0   \n",
       "3035                        0.0                        0.0   \n",
       "1772                        0.0                        0.0   \n",
       "\n",
       "      C(occupation_husb)[T.4.0]  C(occupation_husb)[T.5.0]  \\\n",
       "2411                        0.0                        0.0   \n",
       "4083                        0.0                        1.0   \n",
       "3196                        0.0                        1.0   \n",
       "3035                        1.0                        0.0   \n",
       "1772                        1.0                        0.0   \n",
       "\n",
       "      C(occupation_husb)[T.6.0]  C(occupation)[T.2.0]  C(occupation)[T.3.0]  \\\n",
       "2411                        1.0                   1.0                   0.0   \n",
       "4083                        0.0                   0.0                   1.0   \n",
       "3196                        0.0                   0.0                   1.0   \n",
       "3035                        0.0                   0.0                   1.0   \n",
       "1772                        0.0                   0.0                   0.0   \n",
       "\n",
       "      C(occupation)[T.4.0]  C(occupation)[T.5.0]  C(occupation)[T.6.0]  \\\n",
       "2411                   0.0                   0.0                   0.0   \n",
       "4083                   0.0                   0.0                   0.0   \n",
       "3196                   0.0                   0.0                   0.0   \n",
       "3035                   0.0                   0.0                   0.0   \n",
       "1772                   0.0                   1.0                   0.0   \n",
       "\n",
       "      rate_marriage       age      educ  children  yrs_married  \n",
       "2411       0.921467 -0.309063  0.805149 -0.279448    -0.417580  \n",
       "4083      -0.121209  1.900561 -0.104984  1.822186     1.934982  \n",
       "3196       0.921467  1.164020 -0.104984  1.822186     1.934982  \n",
       "3035       0.921467 -1.045604 -1.015117 -0.979992    -0.901932  \n",
       "1772      -1.163885 -1.045604 -0.104984 -0.979992    -0.901932  "
      ]
     },
     "execution_count": 103,
     "metadata": {},
     "output_type": "execute_result"
    }
   ],
   "source": [
    "X_train.head()"
   ]
  },
  {
   "cell_type": "markdown",
   "metadata": {},
   "source": [
    "We can see the current dataset has 15 features. With PolynomialFeatures, we can create all second order features in one command. "
   ]
  },
  {
   "cell_type": "code",
   "execution_count": 104,
   "metadata": {
    "collapsed": false
   },
   "outputs": [],
   "source": [
    "from sklearn.preprocessing import PolynomialFeatures\n",
    "poly = PolynomialFeatures(2)\n",
    "X_train_2 = poly.fit_transform(X_train)\n",
    "X_test_2 = poly.fit_transform(X_test)"
   ]
  },
  {
   "cell_type": "code",
   "execution_count": 105,
   "metadata": {
    "collapsed": false
   },
   "outputs": [
    {
     "name": "stdout",
     "output_type": "stream",
     "text": [
      "(4456, 136)\n",
      "(1910, 136)\n"
     ]
    }
   ],
   "source": [
    "print X_train_2.shape \n",
    "print X_test_2.shape "
   ]
  },
  {
   "cell_type": "markdown",
   "metadata": {},
   "source": [
    "There is 1 feature for the intercept, 15 original features, 15 second order features for the original 15 features, and 15-choose-2(105) second order interacting features. The total number of features is 136 as expected.\n",
    "\n",
    "The outputs of PolynomialFeatures are numpy arrays. Let's add the column names back and make some dataframes. "
   ]
  },
  {
   "cell_type": "code",
   "execution_count": 106,
   "metadata": {
    "collapsed": true
   },
   "outputs": [],
   "source": [
    "target_feature_names = poly.get_feature_names(X_train.columns.values)\n",
    "X_train_2_df = pd.DataFrame(X_train_2, columns = target_feature_names)\n",
    "X_test_2_df = pd.DataFrame(X_test_2, columns = target_feature_names)"
   ]
  },
  {
   "cell_type": "code",
   "execution_count": 108,
   "metadata": {
    "collapsed": false
   },
   "outputs": [
    {
     "data": {
      "text/html": [
       "<div>\n",
       "<table border=\"1\" class=\"dataframe\">\n",
       "  <thead>\n",
       "    <tr style=\"text-align: right;\">\n",
       "      <th></th>\n",
       "      <th>1</th>\n",
       "      <th>C(occupation_husb)[T.2.0]</th>\n",
       "      <th>C(occupation_husb)[T.3.0]</th>\n",
       "      <th>C(occupation_husb)[T.4.0]</th>\n",
       "      <th>C(occupation_husb)[T.5.0]</th>\n",
       "      <th>C(occupation_husb)[T.6.0]</th>\n",
       "      <th>C(occupation)[T.2.0]</th>\n",
       "      <th>C(occupation)[T.3.0]</th>\n",
       "      <th>C(occupation)[T.4.0]</th>\n",
       "      <th>C(occupation)[T.5.0]</th>\n",
       "      <th>...</th>\n",
       "      <th>age^2</th>\n",
       "      <th>age educ</th>\n",
       "      <th>age children</th>\n",
       "      <th>age yrs_married</th>\n",
       "      <th>educ^2</th>\n",
       "      <th>educ children</th>\n",
       "      <th>educ yrs_married</th>\n",
       "      <th>children^2</th>\n",
       "      <th>children yrs_married</th>\n",
       "      <th>yrs_married^2</th>\n",
       "    </tr>\n",
       "  </thead>\n",
       "  <tbody>\n",
       "    <tr>\n",
       "      <th>0</th>\n",
       "      <td>1.0</td>\n",
       "      <td>0.0</td>\n",
       "      <td>0.0</td>\n",
       "      <td>0.0</td>\n",
       "      <td>0.0</td>\n",
       "      <td>1.0</td>\n",
       "      <td>1.0</td>\n",
       "      <td>0.0</td>\n",
       "      <td>0.0</td>\n",
       "      <td>0.0</td>\n",
       "      <td>...</td>\n",
       "      <td>0.095520</td>\n",
       "      <td>-0.248842</td>\n",
       "      <td>0.086367</td>\n",
       "      <td>0.129059</td>\n",
       "      <td>0.648265</td>\n",
       "      <td>-0.224997</td>\n",
       "      <td>-0.336215</td>\n",
       "      <td>0.078091</td>\n",
       "      <td>0.116692</td>\n",
       "      <td>0.174373</td>\n",
       "    </tr>\n",
       "    <tr>\n",
       "      <th>1</th>\n",
       "      <td>1.0</td>\n",
       "      <td>0.0</td>\n",
       "      <td>0.0</td>\n",
       "      <td>0.0</td>\n",
       "      <td>1.0</td>\n",
       "      <td>0.0</td>\n",
       "      <td>0.0</td>\n",
       "      <td>1.0</td>\n",
       "      <td>0.0</td>\n",
       "      <td>0.0</td>\n",
       "      <td>...</td>\n",
       "      <td>3.612132</td>\n",
       "      <td>-0.199528</td>\n",
       "      <td>3.463176</td>\n",
       "      <td>3.677551</td>\n",
       "      <td>0.011022</td>\n",
       "      <td>-0.191300</td>\n",
       "      <td>-0.203142</td>\n",
       "      <td>3.320364</td>\n",
       "      <td>3.525898</td>\n",
       "      <td>3.744156</td>\n",
       "    </tr>\n",
       "    <tr>\n",
       "      <th>2</th>\n",
       "      <td>1.0</td>\n",
       "      <td>0.0</td>\n",
       "      <td>0.0</td>\n",
       "      <td>0.0</td>\n",
       "      <td>1.0</td>\n",
       "      <td>0.0</td>\n",
       "      <td>0.0</td>\n",
       "      <td>1.0</td>\n",
       "      <td>0.0</td>\n",
       "      <td>0.0</td>\n",
       "      <td>...</td>\n",
       "      <td>1.354942</td>\n",
       "      <td>-0.122203</td>\n",
       "      <td>2.121061</td>\n",
       "      <td>2.252357</td>\n",
       "      <td>0.011022</td>\n",
       "      <td>-0.191300</td>\n",
       "      <td>-0.203142</td>\n",
       "      <td>3.320364</td>\n",
       "      <td>3.525898</td>\n",
       "      <td>3.744156</td>\n",
       "    </tr>\n",
       "    <tr>\n",
       "      <th>3</th>\n",
       "      <td>1.0</td>\n",
       "      <td>0.0</td>\n",
       "      <td>0.0</td>\n",
       "      <td>1.0</td>\n",
       "      <td>0.0</td>\n",
       "      <td>0.0</td>\n",
       "      <td>0.0</td>\n",
       "      <td>1.0</td>\n",
       "      <td>0.0</td>\n",
       "      <td>0.0</td>\n",
       "      <td>...</td>\n",
       "      <td>1.093289</td>\n",
       "      <td>1.061411</td>\n",
       "      <td>1.024684</td>\n",
       "      <td>0.943064</td>\n",
       "      <td>1.030463</td>\n",
       "      <td>0.994807</td>\n",
       "      <td>0.915566</td>\n",
       "      <td>0.960385</td>\n",
       "      <td>0.883886</td>\n",
       "      <td>0.813481</td>\n",
       "    </tr>\n",
       "    <tr>\n",
       "      <th>4</th>\n",
       "      <td>1.0</td>\n",
       "      <td>0.0</td>\n",
       "      <td>0.0</td>\n",
       "      <td>1.0</td>\n",
       "      <td>0.0</td>\n",
       "      <td>0.0</td>\n",
       "      <td>0.0</td>\n",
       "      <td>0.0</td>\n",
       "      <td>0.0</td>\n",
       "      <td>1.0</td>\n",
       "      <td>...</td>\n",
       "      <td>1.093289</td>\n",
       "      <td>0.109772</td>\n",
       "      <td>1.024684</td>\n",
       "      <td>0.943064</td>\n",
       "      <td>0.011022</td>\n",
       "      <td>0.102883</td>\n",
       "      <td>0.094688</td>\n",
       "      <td>0.960385</td>\n",
       "      <td>0.883886</td>\n",
       "      <td>0.813481</td>\n",
       "    </tr>\n",
       "  </tbody>\n",
       "</table>\n",
       "<p>5 rows × 136 columns</p>\n",
       "</div>"
      ],
      "text/plain": [
       "     1  C(occupation_husb)[T.2.0]  C(occupation_husb)[T.3.0]  \\\n",
       "0  1.0                        0.0                        0.0   \n",
       "1  1.0                        0.0                        0.0   \n",
       "2  1.0                        0.0                        0.0   \n",
       "3  1.0                        0.0                        0.0   \n",
       "4  1.0                        0.0                        0.0   \n",
       "\n",
       "   C(occupation_husb)[T.4.0]  C(occupation_husb)[T.5.0]  \\\n",
       "0                        0.0                        0.0   \n",
       "1                        0.0                        1.0   \n",
       "2                        0.0                        1.0   \n",
       "3                        1.0                        0.0   \n",
       "4                        1.0                        0.0   \n",
       "\n",
       "   C(occupation_husb)[T.6.0]  C(occupation)[T.2.0]  C(occupation)[T.3.0]  \\\n",
       "0                        1.0                   1.0                   0.0   \n",
       "1                        0.0                   0.0                   1.0   \n",
       "2                        0.0                   0.0                   1.0   \n",
       "3                        0.0                   0.0                   1.0   \n",
       "4                        0.0                   0.0                   0.0   \n",
       "\n",
       "   C(occupation)[T.4.0]  C(occupation)[T.5.0]      ...           age^2  \\\n",
       "0                   0.0                   0.0      ...        0.095520   \n",
       "1                   0.0                   0.0      ...        3.612132   \n",
       "2                   0.0                   0.0      ...        1.354942   \n",
       "3                   0.0                   0.0      ...        1.093289   \n",
       "4                   0.0                   1.0      ...        1.093289   \n",
       "\n",
       "   age educ  age children  age yrs_married    educ^2  educ children  \\\n",
       "0 -0.248842      0.086367         0.129059  0.648265      -0.224997   \n",
       "1 -0.199528      3.463176         3.677551  0.011022      -0.191300   \n",
       "2 -0.122203      2.121061         2.252357  0.011022      -0.191300   \n",
       "3  1.061411      1.024684         0.943064  1.030463       0.994807   \n",
       "4  0.109772      1.024684         0.943064  0.011022       0.102883   \n",
       "\n",
       "   educ yrs_married  children^2  children yrs_married  yrs_married^2  \n",
       "0         -0.336215    0.078091              0.116692       0.174373  \n",
       "1         -0.203142    3.320364              3.525898       3.744156  \n",
       "2         -0.203142    3.320364              3.525898       3.744156  \n",
       "3          0.915566    0.960385              0.883886       0.813481  \n",
       "4          0.094688    0.960385              0.883886       0.813481  \n",
       "\n",
       "[5 rows x 136 columns]"
      ]
     },
     "execution_count": 108,
     "metadata": {},
     "output_type": "execute_result"
    }
   ],
   "source": [
    "X_train_2_df.head()"
   ]
  },
  {
   "cell_type": "markdown",
   "metadata": {},
   "source": [
    "Now let's fit a new logistic regression with our freshly made features :) For easy comparison, we use the same parameters as used in the previous model."
   ]
  },
  {
   "cell_type": "code",
   "execution_count": 109,
   "metadata": {
    "collapsed": false
   },
   "outputs": [
    {
     "name": "stdout",
     "output_type": "stream",
     "text": [
      "train_score =  0.734066427289\n",
      "test_score =  0.716753926702\n"
     ]
    }
   ],
   "source": [
    "model = linear_model.LogisticRegression(fit_intercept = False, penalty = 'l2', C= 1e9)\n",
    "model.fit(X_train_2_df,y_train)\n",
    "\n",
    "print 'train_score = ', model.score(X_train_2_df, y_train)\n",
    "    \n",
    "predicted = model.predict(X_test_2_df)\n",
    "print 'test_score = ', metrics.accuracy_score(y_test, predicted)"
   ]
  },
  {
   "cell_type": "markdown",
   "metadata": {},
   "source": [
    "What are the most important features this time?"
   ]
  },
  {
   "cell_type": "code",
   "execution_count": 113,
   "metadata": {
    "collapsed": false
   },
   "outputs": [
    {
     "data": {
      "text/plain": [
       "yrs_married                                       32.016408\n",
       "C(occupation)[T.6.0] yrs_married                 -29.755465\n",
       "C(occupation)[T.4.0] yrs_married                 -29.612845\n",
       "C(occupation)[T.5.0] yrs_married                 -29.490073\n",
       "C(occupation)[T.2.0] yrs_married                 -29.381828\n",
       "C(occupation)[T.3.0] yrs_married                 -29.298209\n",
       "C(occupation_husb)[T.2.0] C(occupation)[T.3.0]    18.607479\n",
       "C(occupation_husb)[T.2.0] C(occupation)[T.4.0]    18.350060\n",
       "C(occupation_husb)[T.2.0] C(occupation)[T.6.0]    18.334311\n",
       "C(occupation_husb)[T.2.0] C(occupation)[T.2.0]    18.280836\n",
       "dtype: float64"
      ]
     },
     "execution_count": 113,
     "metadata": {},
     "output_type": "execute_result"
    }
   ],
   "source": [
    "weights_categories = pd.Series(model.coef_[0],\n",
    "                 index= X_train_2_df.columns.values)\n",
    "topindices = np.argsort(-np.abs(model.coef_[0]))[:10]\n",
    "weights_categories[topindices][:10]"
   ]
  },
  {
   "cell_type": "markdown",
   "metadata": {},
   "source": [
    "The testing error is a bit larger than the training error. We may be overfitting the dataset. Why don't we try some regularization? "
   ]
  },
  {
   "cell_type": "code",
   "execution_count": 114,
   "metadata": {
    "collapsed": true
   },
   "outputs": [],
   "source": [
    "def fit_order2(pen,reg):\n",
    "    model = linear_model.LogisticRegression(fit_intercept = False, penalty = pen, C= reg)\n",
    "    model.fit(X_train_2_df,y_train)\n",
    "    \n",
    "    #print model.coef_\n",
    "    train_score = model.score(X_train_2_df, y_train)\n",
    "    \n",
    "    predicted = model.predict(X_test_2_df)\n",
    "    test_score = metrics.accuracy_score(y_test, predicted)\n",
    "    \n",
    "    return train_score, test_score, model.coef_[0]"
   ]
  },
  {
   "cell_type": "markdown",
   "metadata": {},
   "source": [
    "Let's train a suite of models with various regularization strength."
   ]
  },
  {
   "cell_type": "code",
   "execution_count": 115,
   "metadata": {
    "collapsed": true
   },
   "outputs": [],
   "source": [
    "\n",
    "penalties = [1e9, 1e6, 1e4, 1e2, 10, 1, 1e-1, 1e-2, 1e-3, 1e-4]\n",
    "types = ['l1', 'l2']\n",
    "\n",
    "train_score = np.zeros([len(types),len(penalties)])\n",
    "test_score = np.zeros([len(types),len(penalties)])\n",
    "coeff = np.zeros([len(types),len(penalties),X_train_2_df.shape[1]])"
   ]
  },
  {
   "cell_type": "code",
   "execution_count": 116,
   "metadata": {
    "collapsed": true
   },
   "outputs": [],
   "source": [
    "for i in range(len(types)):\n",
    "    for j in range(len(penalties)):\n",
    "        (train_score[i,j], test_score[i,j], coeff[i,j,:]) = fit_order2(types[i], penalties[j])"
   ]
  },
  {
   "cell_type": "code",
   "execution_count": 117,
   "metadata": {
    "collapsed": false
   },
   "outputs": [
    {
     "name": "stdout",
     "output_type": "stream",
     "text": [
      "[ 0.73361759  0.73361759  0.73361759  0.73384201  0.73406643  0.73002693\n",
      "  0.72778276  0.71633752  0.67549372  0.67549372]\n",
      "[ 0.71675393  0.71675393  0.71675393  0.71623037  0.71570681  0.71413613\n",
      "  0.72984293  0.73560209  0.68219895  0.68219895]\n"
     ]
    }
   ],
   "source": [
    "print train_score[0,:]\n",
    "print test_score[0,:]\n"
   ]
  },
  {
   "cell_type": "code",
   "execution_count": 118,
   "metadata": {
    "collapsed": false
   },
   "outputs": [
    {
     "data": {
      "image/png": "[encoded data removed]",
      "text/plain": [
       "<matplotlib.figure.Figure at 0x12359b950>"
      ]
     },
     "metadata": {},
     "output_type": "display_data"
    }
   ],
   "source": [
    "# add line, clean the code\n",
    "fig = plt.figure()\n",
    "ax = fig.add_subplot(111)\n",
    "ax.plot()\n",
    "labels = ['L1', 'L2']\n",
    "markers = ['o','^']\n",
    "ax.set_xscale('log')\n",
    "ax.scatter(penalties, train_score[0,:], color='r',label = 'L1 train',marker=markers[0], s=50)\n",
    "ax.scatter(penalties, test_score[0,:],label = 'L1 test', marker=markers[0], s=50)\n",
    "\n",
    "ax.scatter(penalties, train_score[1,:], color='r',label = 'L2 train',marker=markers[1], s=50)\n",
    "ax.scatter(penalties, test_score[1,:],label = 'L2 test', marker=markers[1], s=50)\n",
    "ax.set_xscale('log')\n",
    "plt.legend(loc=4) #, fontsize=25\n",
    "plt.show()"
   ]
  },
  {
   "cell_type": "code",
   "execution_count": 119,
   "metadata": {
    "collapsed": true
   },
   "outputs": [],
   "source": [
    "# let's extract top 10 most important word for l2, week reguarlization\n",
    "l1indices = np.argsort(-np.abs(coeff[0,0,:]))[:10]\n",
    "l2indices = np.argsort(-np.abs(coeff[1,0,:]))[:10]\n",
    "#print indices\n",
    "l1coeff = coeff[0,:,l1indices]\n",
    "l2coeff = coeff[1,:,l2indices]"
   ]
  },
  {
   "cell_type": "code",
   "execution_count": 120,
   "metadata": {
    "collapsed": false
   },
   "outputs": [
    {
     "name": "stdout",
     "output_type": "stream",
     "text": [
      "L1 regularization\n",
      "Index([u'C(occupation_husb)[T.3.0] C(occupation)[T.6.0]',\n",
      "       u'C(occupation_husb)[T.2.0] C(occupation)[T.3.0]',\n",
      "       u'C(occupation_husb)[T.2.0] C(occupation)[T.6.0]',\n",
      "       u'C(occupation_husb)[T.2.0] C(occupation)[T.4.0]',\n",
      "       u'C(occupation_husb)[T.2.0] C(occupation)[T.2.0]', u'yrs_married',\n",
      "       u'C(occupation_husb)[T.2.0] C(occupation)[T.5.0]',\n",
      "       u'C(occupation_husb)[T.6.0] C(occupation)[T.3.0]', u'age',\n",
      "       u'C(occupation_husb)[T.6.0] C(occupation)[T.6.0]'],\n",
      "      dtype='object')\n",
      "\n",
      "L2 regularization\n",
      "Index([u'yrs_married', u'C(occupation)[T.6.0] yrs_married',\n",
      "       u'C(occupation)[T.4.0] yrs_married',\n",
      "       u'C(occupation)[T.5.0] yrs_married',\n",
      "       u'C(occupation)[T.2.0] yrs_married',\n",
      "       u'C(occupation)[T.3.0] yrs_married',\n",
      "       u'C(occupation_husb)[T.2.0] C(occupation)[T.3.0]',\n",
      "       u'C(occupation_husb)[T.2.0] C(occupation)[T.4.0]',\n",
      "       u'C(occupation_husb)[T.2.0] C(occupation)[T.6.0]',\n",
      "       u'C(occupation_husb)[T.2.0] C(occupation)[T.2.0]'],\n",
      "      dtype='object')\n"
     ]
    }
   ],
   "source": [
    "l1words = weights_categories[l1indices].index\n",
    "l2words = weights_categories[l2indices].index\n",
    "print 'L1 regularization'\n",
    "print l1words\n",
    "print ''\n",
    "print 'L2 regularization'\n",
    "print l2words"
   ]
  },
  {
   "cell_type": "code",
   "execution_count": 121,
   "metadata": {
    "collapsed": true
   },
   "outputs": [],
   "source": [
    "actual_pen = [1/i for i in penalties]"
   ]
  },
  {
   "cell_type": "code",
   "execution_count": 163,
   "metadata": {
    "collapsed": true
   },
   "outputs": [],
   "source": [
    "import matplotlib.pyplot as plt\n",
    "%matplotlib inline\n",
    "plt.rcParams['figure.figsize'] = 16, 12\n",
    "\n",
    "def make_coefficient_plot(coeff, words, penalty_list, title):\n",
    "    \n",
    "    cmap = plt.get_cmap('Blues')\n",
    "    \n",
    "    xx = penalty_list\n",
    "    plt.plot(xx, [0.]*len(xx), '--', lw=1, color='k')\n",
    "    \n",
    "    table_words = coeff\n",
    "\n",
    "\n",
    "    \n",
    "    for i in xrange(len(words)):\n",
    "        color = cmap(0.8*((i+1)/(len(words)*1.2)+0.15))\n",
    "        plt.plot(xx, coeff[i:i+1].flatten(),\n",
    "                 '-', label=words[i], linewidth=4.0, color=color)\n",
    "        \n",
    "    #for i in xrange(len(l2_words)):\n",
    "    #    color = cmap_l2(0.8*((i+1)/(len(l2_words)*1.2)+0.15))\n",
    "    #    plt.plot(xx, (-1)*l2coeff[i:i+1].flatten(),\n",
    "    #             '-', label=l2_words[i], linewidth=4.0, color=color)\n",
    "        \n",
    "    plt.legend(loc=1, ncol=2, prop={'size':16}, columnspacing=0.5)\n",
    "    plt.axis([1, 1e4, -1, 2])\n",
    "    #plt.ylim([-0.5,0.5])\n",
    "    plt.xlim([1, 1e4])\n",
    "    plt.title(title)\n",
    "    plt.xlabel('Lambda (penalty)')\n",
    "    plt.ylabel('Coefficient value')\n",
    "    plt.xscale('log')\n",
    "\n",
    "    plt.rcParams.update({'font.size': 25})\n",
    "    plt.tight_layout()"
   ]
  },
  {
   "cell_type": "code",
   "execution_count": 164,
   "metadata": {
    "collapsed": false
   },
   "outputs": [
    {
     "data": {
      "image/png": "[encoded data removed]",
      "text/plain": [
       "<matplotlib.figure.Figure at 0x122571050>"
      ]
     },
     "metadata": {},
     "output_type": "display_data"
    }
   ],
   "source": [
    "make_coefficient_plot(l1coeff, l1words, actual_pen, 'L1 penalty')"
   ]
  },
  {
   "cell_type": "code",
   "execution_count": 165,
   "metadata": {
    "collapsed": false
   },
   "outputs": [
    {
     "data": {
      "image/png": "[encoded data removed]",
      "text/plain": [
       "<matplotlib.figure.Figure at 0x11b74a950>"
      ]
     },
     "metadata": {},
     "output_type": "display_data"
    }
   ],
   "source": [
    "make_coefficient_plot(l2coeff, l2words, actual_pen, 'L2 penalty')"
   ]
  },
  {
   "cell_type": "markdown",
   "metadata": {},
   "source": [
    "### Caveat:\n",
    "There are only ~6k data points in this dataset, so the difference in training/testing error could just be noise.\n",
    "\n",
    "We will do better by doing cross-validation, but it's hard to gain much just because we don't have much data to start with."
   ]
  },
  {
   "cell_type": "code",
   "execution_count": null,
   "metadata": {
    "collapsed": true
   },
   "outputs": [],
   "source": []
  }
 ],
 "metadata": {
  "anaconda-cloud": {},
  "kernelspec": {
   "display_name": "Python 2",
   "language": "python",
   "name": "python2"
  },
  "language_info": {
   "codemirror_mode": {
    "name": "ipython",
    "version": 2
   },
   "file_extension": ".py",
   "mimetype": "text/x-python",
   "name": "python",
   "nbconvert_exporter": "python",
   "pygments_lexer": "ipython2",
   "version": "2.7.12"
  }
 },
 "nbformat": 4,
 "nbformat_minor": 0
}
